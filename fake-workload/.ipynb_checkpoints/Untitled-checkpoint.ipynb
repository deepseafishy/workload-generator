{
 "cells": [
  {
   "cell_type": "code",
   "execution_count": 7,
   "id": "upset-signature",
   "metadata": {},
   "outputs": [],
   "source": [
    "import subprocess\n",
    "import os\n",
    "import ujson as json\n",
    "from time import time, sleep\n",
    "import random\n",
    "import shlex"
   ]
  },
  {
   "cell_type": "code",
   "execution_count": 3,
   "id": "quarterly-directive",
   "metadata": {},
   "outputs": [
    {
     "name": "stdout",
     "output_type": "stream",
     "text": [
      "\n",
      "\n",
      "hello\n"
     ]
    }
   ],
   "source": [
    "res = subprocess.run(['echo', 'hello'], shell=True, capture_output=True, encoding='utf-8')\n",
    "print(res.stdout)\n",
    "print('hello')"
   ]
  },
  {
   "cell_type": "code",
   "execution_count": 8,
   "id": "increased-amber",
   "metadata": {},
   "outputs": [
    {
     "name": "stdout",
     "output_type": "stream",
     "text": [
      "it file_37561745730_34557702099_453\n"
     ]
    }
   ],
   "source": [
    "# find a file from 4_prod with more than 30 entries\n",
    "\n",
    "directory = '4_prod'\n",
    "i = 0\n",
    "for d in os.listdir('/mnt/temp/data/'+directory):\n",
    "#     print(d)\n",
    "    open_file = open('/mnt/temp/data/'+directory+\"/\"+d)\n",
    "    file = json.load(open_file)\n",
    "    avg_cpu = file['avg_cpu']\n",
    "    maxi = max(avg_cpu)\n",
    "    mini = min(avg_cpu)\n",
    "    if maxi-mini>0.1:\n",
    "        print('it', d)\n",
    "        f = '/mnt/temp/data/'+directory+\"/\"+d\n",
    "        break;"
   ]
  },
  {
   "cell_type": "code",
   "execution_count": 9,
   "id": "aerial-layer",
   "metadata": {},
   "outputs": [],
   "source": [
    "# get coordinates from file\n",
    "open_file = open(f)\n",
    "file = json.load(open_file)\n",
    "times = file['time']\n",
    "avg_cpu = file['avg_cpu']\n",
    "avg_mem = file['avg_mem']"
   ]
  },
  {
   "cell_type": "code",
   "execution_count": 27,
   "id": "white-analyst",
   "metadata": {},
   "outputs": [],
   "source": [
    "def get_cpu_util(pid):\n",
    "    process = subprocess.Popen(shlex.split('ps -p '+ str(pid) + ' -o %cpu'), encoding='utf-8', stdout=subprocess.PIPE)\n",
    "    output = process.stdout.readlines()\n",
    "    return output[1];"
   ]
  },
  {
   "cell_type": "code",
   "execution_count": 53,
   "id": "republican-funds",
   "metadata": {},
   "outputs": [],
   "source": [
    "# timeout \n",
    "\n",
    "def run_command(command, period):\n",
    "    args = shlex.split(command)\n",
    "    start = time()\n",
    "    process = subprocess.Popen(shlex.split(command), encoding='utf-8', stdout=subprocess.PIPE)\n",
    "    while(True):\n",
    "        # output = process.stdout.readline()\n",
    "        # print(output)\n",
    "        if process.poll() is None:\n",
    "#             print(output.strip())\n",
    "            if (time() - start)%60 > period:\n",
    "                cpu_util = get_cpu_util(process.pid)\n",
    "                print('kill process: ', cpu_util)\n",
    "                process.kill()\n",
    "                return cpu_util\n",
    "        else:\n",
    "            break\n",
    "    print('process finished before time')\n",
    "    return -1;"
   ]
  },
  {
   "cell_type": "code",
   "execution_count": null,
   "id": "intelligent-southeast",
   "metadata": {},
   "outputs": [],
   "source": [
    "# parameters:\n",
    "PERIOD = 5 # seconds\n",
    "\n",
    "# used variables:\n",
    "t_count = 3950\n",
    "\n",
    "for it, _t in enumerate(times):\n",
    "    if t_count == (int)(_t):\n",
    "        start = time()\n",
    "        target_cpu = avg_cpu[it]\n",
    "        target_mem = avg_mem[it]\n",
    "        t = (int)(times[it])\n",
    "        command = './build/workload/workload --bucket 1 --cpu-util ' + str(target_cpu) #+ ' --memory ' + str(int(target_mem*100000))\n",
    "        print(command)\n",
    "        ret = run_command(command, PERIOD)\n",
    "        _period = PERIOD\n",
    "        while( ret < 0):\n",
    "            # must re-execute until remaining time is finished\n",
    "            end = time()\n",
    "            _period = max(_period - (float)(end-start)%60, 0)\n",
    "            print('sleeping', _period)\n",
    "            ret = run_command(command, _period)\n",
    "        t_count += 1\n",
    "    else:\n",
    "        print(_t, 'sleep')\n",
    "        t_count += 1\n",
    "        sleep(PERIOD)"
   ]
  },
  {
   "cell_type": "code",
   "execution_count": 47,
   "id": "revised-glory",
   "metadata": {},
   "outputs": [
    {
     "name": "stdout",
     "output_type": "stream",
     "text": [
      "<subprocess.Popen object at 0x7f600f5358e0>\n",
      "memory-size: 128\n",
      "\n",
      "<subprocess.Popen object at 0x7f600f5358e0>\n",
      "working-set-size: 64\n",
      "\n",
      "<subprocess.Popen object at 0x7f600f5358e0>\n",
      "dirty-size: 32\n",
      "\n",
      "<subprocess.Popen object at 0x7f600f5358e0>\n",
      "period: 1000\n",
      "\n",
      "<subprocess.Popen object at 0x7f600f5358e0>\n",
      "buckets: 10\n",
      "\n",
      "<subprocess.Popen object at 0x7f600f5358e0>\n",
      "threads: 4\n",
      "\n",
      "<subprocess.Popen object at 0x7f600f5358e0>\n",
      "pagesize: 4096\n",
      "\n",
      "<subprocess.Popen object at 0x7f600f5358e0>\n",
      "cpu_util: 0.0136871\n",
      "\n",
      "<subprocess.Popen object at 0x7f600f5358e0>\n",
      "compressibility: 0.5\n",
      "\n",
      "<subprocess.Popen object at 0x7f600f5358e0>\n",
      "dirty-compressibility: 0.5\n",
      "\n",
      "<subprocess.Popen object at 0x7f600f5358e0>\n",
      "redirtied-ratio: 0\n",
      "\n",
      "<subprocess.Popen object at 0x7f600f5358e0>\n",
      "delta-compressibility: 0.5\n",
      "\n",
      "<subprocess.Popen object at 0x7f600f5358e0>\n",
      "100000 218 0.00218\n",
      "\n",
      "<subprocess.Popen object at 0x7f600f5358e0>\n",
      "100000 319 0.00319\n",
      "\n",
      "<subprocess.Popen object at 0x7f600f5358e0>\n",
      "100000 718 0.00718\n",
      "\n",
      "<subprocess.Popen object at 0x7f600f5358e0>\n",
      "100000 894 0.00894\n",
      "\n",
      "<subprocess.Popen object at 0x7f600f5358e0>\n",
      "100000 871 0.00871\n",
      "\n",
      "<subprocess.Popen object at 0x7f600f5358e0>\n",
      "100000 1246 0.01246\n",
      "\n",
      "<subprocess.Popen object at 0x7f600f5358e0>\n",
      "100000 1448 0.01448\n",
      "\n",
      "<subprocess.Popen object at 0x7f600f5358e0>\n",
      "100000 1342 0.01342\n",
      "\n",
      "<subprocess.Popen object at 0x7f600f5358e0>\n",
      "100000 2098 0.02098\n",
      "\n",
      "<subprocess.Popen object at 0x7f600f5358e0>\n",
      "100000 1227 0.01227\n",
      "\n",
      "<subprocess.Popen object at 0x7f600f5358e0>\n",
      "100000 1327 0.01327\n",
      "\n",
      "<subprocess.Popen object at 0x7f600f5358e0>\n",
      "100000 1052 0.01052\n",
      "\n",
      "<subprocess.Popen object at 0x7f600f5358e0>\n",
      "100000 1569 0.01569\n",
      "\n",
      "<subprocess.Popen object at 0x7f600f5358e0>\n",
      "100000 1415 0.01415\n",
      "\n",
      "<subprocess.Popen object at 0x7f600f5358e0>\n",
      "100000 1273 0.01273\n",
      "\n",
      "<subprocess.Popen object at 0x7f600f5358e0>\n",
      "100000 675 0.00675\n",
      "\n",
      "<subprocess.Popen object at 0x7f600f5358e0>\n",
      "100000 626 0.00626\n",
      "\n",
      "<subprocess.Popen object at 0x7f600f5358e0>\n",
      "100000 6424 0.06424\n",
      "\n",
      "<subprocess.Popen object at 0x7f600f5358e0>\n",
      "100000 1270 0.0127\n",
      "\n",
      "<subprocess.Popen object at 0x7f600f5358e0>\n",
      "100000 1252 0.01252\n",
      "\n",
      "<subprocess.Popen object at 0x7f600f5358e0>\n",
      "100000 2327 0.02327\n",
      "\n",
      "<subprocess.Popen object at 0x7f600f5358e0>\n"
     ]
    },
    {
     "ename": "KeyboardInterrupt",
     "evalue": "",
     "output_type": "error",
     "traceback": [
      "\u001b[0;31m---------------------------------------------------------------------------\u001b[0m",
      "\u001b[0;31mKeyboardInterrupt\u001b[0m                         Traceback (most recent call last)",
      "\u001b[0;32m<ipython-input-47-25bb313848bd>\u001b[0m in \u001b[0;36m<module>\u001b[0;34m\u001b[0m\n\u001b[1;32m      1\u001b[0m \u001b[0;31m# trying beforehand to check for minimum cpu usage\u001b[0m\u001b[0;34m\u001b[0m\u001b[0;34m\u001b[0m\u001b[0;34m\u001b[0m\u001b[0m\n\u001b[0;32m----> 2\u001b[0;31m \u001b[0mmin_cpu\u001b[0m \u001b[0;34m=\u001b[0m \u001b[0mrun_command\u001b[0m\u001b[0;34m(\u001b[0m\u001b[0;34m'./build/workload/workload --cpu-util '\u001b[0m \u001b[0;34m+\u001b[0m \u001b[0mstr\u001b[0m\u001b[0;34m(\u001b[0m\u001b[0mtarget_cpu\u001b[0m\u001b[0;34m)\u001b[0m\u001b[0;34m,\u001b[0m \u001b[0mPERIOD\u001b[0m\u001b[0;34m)\u001b[0m\u001b[0;34m\u001b[0m\u001b[0;34m\u001b[0m\u001b[0m\n\u001b[0m\u001b[1;32m      3\u001b[0m \u001b[0mprint\u001b[0m\u001b[0;34m(\u001b[0m\u001b[0mmin_cpu\u001b[0m\u001b[0;34m)\u001b[0m\u001b[0;34m\u001b[0m\u001b[0;34m\u001b[0m\u001b[0m\n",
      "\u001b[0;32m<ipython-input-30-5ad52bdf5613>\u001b[0m in \u001b[0;36mrun_command\u001b[0;34m(command, period)\u001b[0m\n\u001b[1;32m      5\u001b[0m     \u001b[0;32mwhile\u001b[0m\u001b[0;34m(\u001b[0m\u001b[0;32mTrue\u001b[0m\u001b[0;34m)\u001b[0m\u001b[0;34m:\u001b[0m\u001b[0;34m\u001b[0m\u001b[0;34m\u001b[0m\u001b[0m\n\u001b[1;32m      6\u001b[0m         \u001b[0mprint\u001b[0m\u001b[0;34m(\u001b[0m\u001b[0mprocess\u001b[0m\u001b[0;34m)\u001b[0m\u001b[0;34m\u001b[0m\u001b[0;34m\u001b[0m\u001b[0m\n\u001b[0;32m----> 7\u001b[0;31m         \u001b[0moutput\u001b[0m \u001b[0;34m=\u001b[0m \u001b[0mprocess\u001b[0m\u001b[0;34m.\u001b[0m\u001b[0mstdout\u001b[0m\u001b[0;34m.\u001b[0m\u001b[0mreadline\u001b[0m\u001b[0;34m(\u001b[0m\u001b[0;34m)\u001b[0m\u001b[0;34m\u001b[0m\u001b[0;34m\u001b[0m\u001b[0m\n\u001b[0m\u001b[1;32m      8\u001b[0m         \u001b[0mprint\u001b[0m\u001b[0;34m(\u001b[0m\u001b[0moutput\u001b[0m\u001b[0;34m)\u001b[0m\u001b[0;34m\u001b[0m\u001b[0;34m\u001b[0m\u001b[0m\n\u001b[1;32m      9\u001b[0m         \u001b[0;32mif\u001b[0m \u001b[0mprocess\u001b[0m\u001b[0;34m.\u001b[0m\u001b[0mpoll\u001b[0m\u001b[0;34m(\u001b[0m\u001b[0;34m)\u001b[0m \u001b[0;32mis\u001b[0m \u001b[0;32mNone\u001b[0m\u001b[0;34m:\u001b[0m\u001b[0;34m\u001b[0m\u001b[0;34m\u001b[0m\u001b[0m\n",
      "\u001b[0;31mKeyboardInterrupt\u001b[0m: "
     ]
    }
   ],
   "source": [
    "# trying beforehand to check for minimum cpu usage\n",
    "min_cpu = run_command('./build/workload/workload --bucket 1 --cpu-util ' + str(target_cpu), PERIOD)\n",
    "print(min_cpu)"
   ]
  },
  {
   "cell_type": "code",
   "execution_count": 41,
   "id": "approximate-retreat",
   "metadata": {},
   "outputs": [
    {
     "ename": "KeyboardInterrupt",
     "evalue": "",
     "output_type": "error",
     "traceback": [
      "\u001b[0;31m---------------------------------------------------------------------------\u001b[0m",
      "\u001b[0;31mKeyboardInterrupt\u001b[0m                         Traceback (most recent call last)",
      "\u001b[0;32m<ipython-input-41-c1096ee1ccea>\u001b[0m in \u001b[0;36m<module>\u001b[0;34m\u001b[0m\n\u001b[1;32m      2\u001b[0m \u001b[0;32mwhile\u001b[0m\u001b[0;34m(\u001b[0m\u001b[0;32mTrue\u001b[0m\u001b[0;34m)\u001b[0m\u001b[0;34m:\u001b[0m\u001b[0;34m\u001b[0m\u001b[0;34m\u001b[0m\u001b[0m\n\u001b[1;32m      3\u001b[0m     \u001b[0;31m# print(process.stdout.readlines())\u001b[0m\u001b[0;34m\u001b[0m\u001b[0;34m\u001b[0m\u001b[0;34m\u001b[0m\u001b[0m\n\u001b[0;32m----> 4\u001b[0;31m     \u001b[0mout\u001b[0m \u001b[0;34m=\u001b[0m \u001b[0mprocess\u001b[0m\u001b[0;34m.\u001b[0m\u001b[0mstdout\u001b[0m\u001b[0;34m.\u001b[0m\u001b[0mreadlines\u001b[0m\u001b[0;34m(\u001b[0m\u001b[0;34m)\u001b[0m\u001b[0;34m\u001b[0m\u001b[0;34m\u001b[0m\u001b[0m\n\u001b[0m\u001b[1;32m      5\u001b[0m     \u001b[0mprint\u001b[0m\u001b[0;34m(\u001b[0m\u001b[0mout\u001b[0m\u001b[0;34m)\u001b[0m\u001b[0;34m\u001b[0m\u001b[0;34m\u001b[0m\u001b[0m\n",
      "\u001b[0;31mKeyboardInterrupt\u001b[0m: "
     ]
    }
   ],
   "source": [
    "process = subprocess.Popen(shlex.split('./build/workload/workload'), encoding='utf-8', stdout=subprocess.PIPE)\n",
    "while(True):\n",
    "    # print(process.stdout.readlines())\n",
    "    out = process.stdout.readlines()\n",
    "    print(out)"
   ]
  },
  {
   "cell_type": "code",
   "execution_count": 50,
   "id": "posted-aurora",
   "metadata": {},
   "outputs": [
    {
     "ename": "KeyboardInterrupt",
     "evalue": "",
     "output_type": "error",
     "traceback": [
      "\u001b[0;31m---------------------------------------------------------------------------\u001b[0m",
      "\u001b[0;31mKeyboardInterrupt\u001b[0m                         Traceback (most recent call last)",
      "\u001b[0;32m<ipython-input-50-507e6314c7ec>\u001b[0m in \u001b[0;36m<module>\u001b[0;34m\u001b[0m\n\u001b[0;32m----> 1\u001b[0;31m \u001b[0mrun_command\u001b[0m\u001b[0;34m(\u001b[0m\u001b[0;34m'python test.py'\u001b[0m\u001b[0;34m,\u001b[0m \u001b[0;36m1\u001b[0m\u001b[0;34m)\u001b[0m\u001b[0;34m\u001b[0m\u001b[0;34m\u001b[0m\u001b[0m\n\u001b[0m",
      "\u001b[0;32m<ipython-input-49-2bc9ca644ec1>\u001b[0m in \u001b[0;36mrun_command\u001b[0;34m(command, period)\u001b[0m\n\u001b[1;32m      4\u001b[0m     \u001b[0mprocess\u001b[0m \u001b[0;34m=\u001b[0m \u001b[0msubprocess\u001b[0m\u001b[0;34m.\u001b[0m\u001b[0mPopen\u001b[0m\u001b[0;34m(\u001b[0m\u001b[0mshlex\u001b[0m\u001b[0;34m.\u001b[0m\u001b[0msplit\u001b[0m\u001b[0;34m(\u001b[0m\u001b[0mcommand\u001b[0m\u001b[0;34m)\u001b[0m\u001b[0;34m,\u001b[0m \u001b[0mencoding\u001b[0m\u001b[0;34m=\u001b[0m\u001b[0;34m'utf-8'\u001b[0m\u001b[0;34m,\u001b[0m \u001b[0mstdout\u001b[0m\u001b[0;34m=\u001b[0m\u001b[0msubprocess\u001b[0m\u001b[0;34m.\u001b[0m\u001b[0mPIPE\u001b[0m\u001b[0;34m)\u001b[0m\u001b[0;34m\u001b[0m\u001b[0;34m\u001b[0m\u001b[0m\n\u001b[1;32m      5\u001b[0m     \u001b[0;32mwhile\u001b[0m\u001b[0;34m(\u001b[0m\u001b[0;32mTrue\u001b[0m\u001b[0;34m)\u001b[0m\u001b[0;34m:\u001b[0m\u001b[0;34m\u001b[0m\u001b[0;34m\u001b[0m\u001b[0m\n\u001b[0;32m----> 6\u001b[0;31m         \u001b[0moutput\u001b[0m \u001b[0;34m=\u001b[0m \u001b[0mprocess\u001b[0m\u001b[0;34m.\u001b[0m\u001b[0mstdout\u001b[0m\u001b[0;34m.\u001b[0m\u001b[0mreadline\u001b[0m\u001b[0;34m(\u001b[0m\u001b[0;34m)\u001b[0m\u001b[0;34m\u001b[0m\u001b[0;34m\u001b[0m\u001b[0m\n\u001b[0m\u001b[1;32m      7\u001b[0m         \u001b[0mprint\u001b[0m\u001b[0;34m(\u001b[0m\u001b[0moutput\u001b[0m\u001b[0;34m)\u001b[0m\u001b[0;34m\u001b[0m\u001b[0;34m\u001b[0m\u001b[0m\n\u001b[1;32m      8\u001b[0m         \u001b[0;32mif\u001b[0m \u001b[0mprocess\u001b[0m\u001b[0;34m.\u001b[0m\u001b[0mpoll\u001b[0m\u001b[0;34m(\u001b[0m\u001b[0;34m)\u001b[0m \u001b[0;32mis\u001b[0m \u001b[0;32mNone\u001b[0m\u001b[0;34m:\u001b[0m\u001b[0;34m\u001b[0m\u001b[0;34m\u001b[0m\u001b[0m\n",
      "\u001b[0;31mKeyboardInterrupt\u001b[0m: "
     ]
    }
   ],
   "source": [
    "run_command('python test.py', 1)"
   ]
  },
  {
   "cell_type": "code",
   "execution_count": 59,
   "id": "governing-communist",
   "metadata": {},
   "outputs": [],
   "source": [
    "def test():\n",
    "    process = subprocess.Popen(shlex.split('python test.py'), encoding='utf-8', stdout=subprocess.PIPE)\n",
    "    print(process.pid)\n",
    "    output = process.stdout.readlines()\n",
    "    print(output)"
   ]
  },
  {
   "cell_type": "code",
   "execution_count": 61,
   "id": "specialized-zimbabwe",
   "metadata": {},
   "outputs": [
    {
     "name": "stdout",
     "output_type": "stream",
     "text": [
      "442687\n"
     ]
    },
    {
     "ename": "KeyboardInterrupt",
     "evalue": "",
     "output_type": "error",
     "traceback": [
      "\u001b[0;31m---------------------------------------------------------------------------\u001b[0m",
      "\u001b[0;31mKeyboardInterrupt\u001b[0m                         Traceback (most recent call last)",
      "\u001b[0;32m<ipython-input-61-fbd55f77ab7c>\u001b[0m in \u001b[0;36m<module>\u001b[0;34m\u001b[0m\n\u001b[0;32m----> 1\u001b[0;31m \u001b[0mtest\u001b[0m\u001b[0;34m(\u001b[0m\u001b[0;34m)\u001b[0m\u001b[0;34m\u001b[0m\u001b[0;34m\u001b[0m\u001b[0m\n\u001b[0m",
      "\u001b[0;32m<ipython-input-59-4a5360ae014e>\u001b[0m in \u001b[0;36mtest\u001b[0;34m()\u001b[0m\n\u001b[1;32m      2\u001b[0m     \u001b[0mprocess\u001b[0m \u001b[0;34m=\u001b[0m \u001b[0msubprocess\u001b[0m\u001b[0;34m.\u001b[0m\u001b[0mPopen\u001b[0m\u001b[0;34m(\u001b[0m\u001b[0mshlex\u001b[0m\u001b[0;34m.\u001b[0m\u001b[0msplit\u001b[0m\u001b[0;34m(\u001b[0m\u001b[0;34m'python test.py'\u001b[0m\u001b[0;34m)\u001b[0m\u001b[0;34m,\u001b[0m \u001b[0mencoding\u001b[0m\u001b[0;34m=\u001b[0m\u001b[0;34m'utf-8'\u001b[0m\u001b[0;34m,\u001b[0m \u001b[0mstdout\u001b[0m\u001b[0;34m=\u001b[0m\u001b[0msubprocess\u001b[0m\u001b[0;34m.\u001b[0m\u001b[0mPIPE\u001b[0m\u001b[0;34m)\u001b[0m\u001b[0;34m\u001b[0m\u001b[0;34m\u001b[0m\u001b[0m\n\u001b[1;32m      3\u001b[0m     \u001b[0mprint\u001b[0m\u001b[0;34m(\u001b[0m\u001b[0mprocess\u001b[0m\u001b[0;34m.\u001b[0m\u001b[0mpid\u001b[0m\u001b[0;34m)\u001b[0m\u001b[0;34m\u001b[0m\u001b[0;34m\u001b[0m\u001b[0m\n\u001b[0;32m----> 4\u001b[0;31m     \u001b[0moutput\u001b[0m \u001b[0;34m=\u001b[0m \u001b[0mprocess\u001b[0m\u001b[0;34m.\u001b[0m\u001b[0mstdout\u001b[0m\u001b[0;34m.\u001b[0m\u001b[0mreadlines\u001b[0m\u001b[0;34m(\u001b[0m\u001b[0;34m)\u001b[0m\u001b[0;34m\u001b[0m\u001b[0;34m\u001b[0m\u001b[0m\n\u001b[0m\u001b[1;32m      5\u001b[0m     \u001b[0mprint\u001b[0m\u001b[0;34m(\u001b[0m\u001b[0moutput\u001b[0m\u001b[0;34m)\u001b[0m\u001b[0;34m\u001b[0m\u001b[0;34m\u001b[0m\u001b[0m\n",
      "\u001b[0;31mKeyboardInterrupt\u001b[0m: "
     ]
    }
   ],
   "source": [
    "test()"
   ]
  },
  {
   "cell_type": "code",
   "execution_count": 99,
   "id": "heard-graham",
   "metadata": {},
   "outputs": [],
   "source": [
    "\n",
    "def find_file_to_simulate():\n",
    "    # find a file from 4_prod with more than 30 entriess\n",
    "    directory = '4_prod'\n",
    "    i = 0\n",
    "    for d in os.listdir('/mnt/temp/data/'+directory):\n",
    "        open_file = open('/mnt/temp/data/'+directory+\"/\"+d)\n",
    "        file = json.load(open_file)\n",
    "        avg_cpu = file['avg_cpu']\n",
    "        maxi = max(avg_cpu)\n",
    "        mini = min(avg_cpu)\n",
    "        if maxi-mini>0.1:\n",
    "            f = '/mnt/temp/data/'+directory+\"/\"+d\n",
    "            return f;\n",
    "        \n",
    "def get_cpu_util(pid):\n",
    "    process = subprocess.Popen(shlex.split('ps -p '+ str(pid) + ' -o %cpu'), encoding='utf-8', stdout=subprocess.PIPE)\n",
    "    output = process.stdout.readlines()\n",
    "    return float(output[1]);\n",
    "\n",
    "    \n",
    "def run_command(command, period, target):\n",
    "    args = shlex.split(command)\n",
    "    start = time()\n",
    "    process = subprocess.Popen(shlex.split(command), encoding='utf-8', stdout=subprocess.PIPE) \n",
    "    \n",
    "    cnt = 0\n",
    "    cpu_util = 0\n",
    "    while(True):\n",
    "        if process.poll() is None:\n",
    "            end = time()\n",
    "            if (end - start)%60 > period:\n",
    "                cpu_util += get_cpu_util(process.pid)\n",
    "                cnt += 1\n",
    "                cpu_util = cpu_util / cnt\n",
    "                print('kill process after', str(end-start), 'seconds || ', cpu_util)\n",
    "                process.kill()\n",
    "                mem_util = 0\n",
    "                return cpu_util, mem_util\n",
    "            else:\n",
    "                temp = get_cpu_util(process.pid)\n",
    "#                     print(temp)\n",
    "                cpu_util += temp\n",
    "                cnt += 1\n",
    "        else:\n",
    "            print('hh')\n",
    "    # error \n",
    "    return -1, -1;"
   ]
  },
  {
   "cell_type": "code",
   "execution_count": 100,
   "id": "filled-tennessee",
   "metadata": {},
   "outputs": [],
   "source": [
    "def simulate_trace(trace_file, accelerated):\n",
    "    # get necessary data from file\n",
    "    open_file = open(trace_file)\n",
    "    file = json.load(open_file)\n",
    "    times = file['time']\n",
    "    avg_cpu = file['avg_cpu']\n",
    "    avg_mem = file['avg_mem']\n",
    "    mock_avg_cpu = []\n",
    "    mock_avg_mem = []\n",
    "    \n",
    "    # used variables:\n",
    "    if accelerated is False:\n",
    "        for i in range(0, times[0]+1):\n",
    "            sleep(PERIOD)\n",
    "            # cpu_util == 0\n",
    "    start = 30\n",
    "    end = 200\n",
    "    \n",
    "    # for each line of trace, simulate a workload\n",
    "    for it, _t in enumerate(times):\n",
    "        if it < start:\n",
    "            continue;\n",
    "        if it == end:\n",
    "            break;\n",
    "        target_cpu = avg_cpu[it] + 0.02\n",
    "        target_mem = avg_mem[it]\n",
    "        command = './build/workload/workload --buckets 1 --threads 1 --cpu-util ' + str(target_cpu) #+ ' --memory ' + str(int(target_mem*100000))\n",
    "        print(command)\n",
    "        cpu, mem = run_command(command, PERIOD, target_cpu)\n",
    "        mock_avg_cpu.append(cpu)\n",
    "        mock_avg_mem.append(mem)\n",
    "        \n",
    "        if(cpu < 0):\n",
    "            print('Error...')\n",
    "            break;"
   ]
  },
  {
   "cell_type": "code",
   "execution_count": null,
   "id": "round-resort",
   "metadata": {},
   "outputs": [
    {
     "name": "stdout",
     "output_type": "stream",
     "text": [
      "/mnt/temp/data/4_prod/file_37561745730_34557702099_453\n",
      "./build/workload/workload --buckets 1 --threads 1 --cpu-util 0.038341064453125004\n",
      "kill process after 2.0011913776397705 seconds ||  5.691616766467066\n",
      "./build/workload/workload --buckets 1 --threads 1 --cpu-util 0.038615722656250004\n",
      "kill process after 2.0000252723693848 seconds ||  5.386904761904762\n",
      "./build/workload/workload --buckets 1 --threads 1 --cpu-util 0.038432617187500004\n",
      "kill process after 2.005723714828491 seconds ||  5.347058823529411\n",
      "./build/workload/workload --buckets 1 --threads 1 --cpu-util 0.039683837890625004\n",
      "kill process after 2.0030677318573 seconds ||  5.280701754385965\n",
      "./build/workload/workload --buckets 1 --threads 1 --cpu-util 0.040111083984375004\n",
      "kill process after 2.000337839126587 seconds ||  5.245664739884393\n",
      "./build/workload/workload --buckets 1 --threads 1 --cpu-util 0.040294189453125004\n",
      "kill process after 2.0050477981567383 seconds ||  5.208571428571428\n",
      "./build/workload/workload --buckets 1 --threads 1 --cpu-util 0.041026611328125004\n",
      "kill process after 2.005716323852539 seconds ||  5.176829268292683\n",
      "./build/workload/workload --buckets 1 --threads 1 --cpu-util 0.041820068359375004\n",
      "kill process after 2.0011329650878906 seconds ||  5.399408284023669\n",
      "./build/workload/workload --buckets 1 --threads 1 --cpu-util 0.042644042968750004\n",
      "kill process after 2.002411365509033 seconds ||  5.092178770949721\n",
      "./build/workload/workload --buckets 1 --threads 1 --cpu-util 0.042979736328125004\n",
      "kill process after 2.006136894226074 seconds ||  5.036931818181818\n",
      "./build/workload/workload --buckets 1 --threads 1 --cpu-util 0.043681640625000004\n",
      "kill process after 2.0017871856689453 seconds ||  5.832402234636872\n",
      "./build/workload/workload --buckets 1 --threads 1 --cpu-util 0.044200439453125004\n",
      "kill process after 2.0004048347473145 seconds ||  4.469945355191257\n",
      "./build/workload/workload --buckets 1 --threads 1 --cpu-util 0.044902343750000004\n",
      "kill process after 2.0017330646514893 seconds ||  4.943243243243243\n",
      "./build/workload/workload --buckets 1 --threads 1 --cpu-util 0.045543212890625004\n",
      "kill process after 2.004326581954956 seconds ||  5.410810810810811\n",
      "./build/workload/workload --buckets 1 --threads 1 --cpu-util 0.047069091796875004\n"
     ]
    }
   ],
   "source": [
    "PERIOD = 2\n",
    "trace_file = find_file_to_simulate()\n",
    "print(trace_file)\n",
    "\n",
    "# simulate trace\n",
    "simulate_trace(trace_file, True)"
   ]
  },
  {
   "cell_type": "code",
   "execution_count": null,
   "id": "dress-sympathy",
   "metadata": {},
   "outputs": [],
   "source": []
  },
  {
   "cell_type": "code",
   "execution_count": null,
   "id": "prescribed-paint",
   "metadata": {},
   "outputs": [],
   "source": []
  },
  {
   "cell_type": "code",
   "execution_count": null,
   "id": "sharp-consideration",
   "metadata": {},
   "outputs": [],
   "source": []
  }
 ],
 "metadata": {
  "kernelspec": {
   "display_name": "Python 3",
   "language": "python",
   "name": "python3"
  },
  "language_info": {
   "codemirror_mode": {
    "name": "ipython",
    "version": 3
   },
   "file_extension": ".py",
   "mimetype": "text/x-python",
   "name": "python",
   "nbconvert_exporter": "python",
   "pygments_lexer": "ipython3",
   "version": "3.8.5"
  }
 },
 "nbformat": 4,
 "nbformat_minor": 5
}
